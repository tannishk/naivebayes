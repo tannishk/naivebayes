{
 "cells": [
  {
   "cell_type": "markdown",
   "metadata": {},
   "source": [
    "# Classification of Iris flowers based on Sepal Length, Sepal Width, Petal Length and Petal Width "
   ]
  },
  {
   "cell_type": "markdown",
   "metadata": {},
   "source": [
    "Welcome to the practical section of module 5.6, here we'll explore how to use python to implement a naive bayes classification model. We'll be working with a small dataset that has features such as Sepal Length, Sepal Width, Petal Length and Petal Width and helps us to classify into one of the following classes \"Setosa, Versicolour,Virginica\". \n"
   ]
  },
  {
   "cell_type": "code",
   "execution_count": null,
   "metadata": {
    "collapsed": true
   },
   "outputs": [],
   "source": [
    "from sklearn import datasets \n",
    "import matplotlib.pyplot as plt\n",
    "from sklearn.naive_bayes import BernoulliNB \n",
    "\n",
    "dataset = datasets.load_iris() ## Loading the dataset"
   ]
  },
  {
   "cell_type": "markdown",
   "metadata": {},
   "source": [
    "Here We first import datasets from sklearn library which is used to import our iris dataset into dataset. In the 2nd line we import our pyplot as plt .  We are importing the BernoulliNB classifier from sklearn "
   ]
  },
  {
   "cell_type": "markdown",
   "metadata": {},
   "source": [
    "# Visualizing the Data"
   ]
  },
  {
   "cell_type": "code",
   "execution_count": 6,
   "metadata": {
    "collapsed": false
   },
   "outputs": [],
   "source": [
    "## Importing 2 features for visualizing \n",
    "X = dataset.data[:,2:4] \n",
    "Y = dataset.target;\n",
    "plt.scatter(X[:,0],X[:,1],c=Y,cmap=plt.cm.Paired)\n",
    "plt.xlabel('petal length')\n",
    "plt.ylabel('petal width')\n",
    "plt.show()"
   ]
  },
  {
   "cell_type": "markdown",
   "metadata": {},
   "source": [
    "Here we are loading the last 2 features ie Patel length and petal width in X and target classes in Y . Using plt.scatter to plot a scatter plot . Various arguments it take are :\n",
    "*x* -- what constitutes the xaxis \n",
    "*y* -- what constitutes the yaxis \n",
    "*c* -- color or sequence of colors \n",
    "*cmap* -- colormap used to map c vector to RGB values\n",
    "plt.xlabel -- give label to x coordinate axis\n",
    "plt.ylabel -- give label to y coordinate axis\n",
    "plt.show -- display the plot"
   ]
  },
  {
   "cell_type": "markdown",
   "metadata": {},
   "source": [
    "# Training the Model"
   ]
  },
  {
   "cell_type": "code",
   "execution_count": null,
   "metadata": {
    "collapsed": true
   },
   "outputs": [],
   "source": [
    "X=dataset.data\n",
    "Y = dataset.target\n",
    "clf = BernoulliNB()\n",
    "clf.fit(X,Y)"
   ]
  },
  {
   "cell_type": "markdown",
   "metadata": {},
   "source": [
    "Now we are training the BernoulliNB() classifier using fit command . Various arguments are :\n",
    "*x* -- training features used to train classifier are passed in this \n",
    "*y* -- target features are passed here "
   ]
  },
  {
   "cell_type": "markdown",
   "metadata": {},
   "source": [
    "# Predict a value"
   ]
  },
  {
   "cell_type": "markdown",
   "metadata": {},
   "source": [
    "Let us predict to which class does the flower with sepal legth of 7.9 cm , sepal width of 3.05 cm , petal length of 6.9 cm and petal width of 2.5 cm"
   ]
  },
  {
   "cell_type": "code",
   "execution_count": null,
   "metadata": {
    "collapsed": true
   },
   "outputs": [],
   "source": [
    "print clf.predict([7.9,3.05,6.9,2.5])"
   ]
  },
  {
   "cell_type": "markdown",
   "metadata": {},
   "source": [
    "Answer is [0] ie it belongs to sentosa class "
   ]
  }
 ],
 "metadata": {
  "kernelspec": {
   "display_name": "Python 2",
   "language": "python",
   "name": "python2"
  },
  "language_info": {
   "codemirror_mode": {
    "name": "ipython",
    "version": 2
   },
   "file_extension": ".py",
   "mimetype": "text/x-python",
   "name": "python",
   "nbconvert_exporter": "python",
   "pygments_lexer": "ipython2",
   "version": "2.7.10"
  }
 },
 "nbformat": 4,
 "nbformat_minor": 0
}
